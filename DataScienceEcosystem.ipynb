{
 "cells": [
  {
   "cell_type": "markdown",
   "id": "3fd6a3a0-66c0-4084-877d-6250d9304356",
   "metadata": {},
   "source": [
    "# Data Science Tools and Ecosystem"
   ]
  },
  {
   "cell_type": "markdown",
   "id": "a67066e7-0629-422d-af2c-d68a42a91487",
   "metadata": {},
   "source": [
    "In this notebook, Data Science Tools and Ecosystem are summarized."
   ]
  },
  {
   "cell_type": "markdown",
   "id": "280dfaeb-6248-4f21-a54c-f6171a94e424",
   "metadata": {},
   "source": [
    "Objectives:\n",
    "* Crear un cuaderno Jupyter\n",
    "* Insertar código y Markdowns\n",
    "* Compartir el cuaderno a través de GitHub"
   ]
  },
  {
   "cell_type": "markdown",
   "id": "41811263-e4d2-458e-a3c2-6dd43b446675",
   "metadata": {},
   "source": [
    "Some of the popular languages that Data Scientists use are:\n",
    "1. Python\n",
    "2. R\n",
    "3. SQL"
   ]
  },
  {
   "cell_type": "markdown",
   "id": "217fdd1d-7534-469d-8c2e-46dc5efa8e71",
   "metadata": {},
   "source": [
    "Some of the commonly used libraries used by Data Scientists include:\n",
    "- NumPy\n",
    "- Pandas\n",
    "- TensorFlow"
   ]
  },
  {
   "cell_type": "markdown",
   "id": "0056b3bf-ae70-45e9-b2cb-b3e76daf08f8",
   "metadata": {},
   "source": [
    "|Data Science Tools|\n",
    "|------------------|\n",
    "|GITHUB|\n",
    "|Jupyter Notebook|\n",
    "|Apache Spark|"
   ]
  },
  {
   "cell_type": "markdown",
   "id": "a05b40a1-3b04-48da-889d-500158fb36dd",
   "metadata": {},
   "source": [
    "### Below are a few examples of evaluating arithmetic expressions in Python"
   ]
  },
  {
   "cell_type": "markdown",
   "id": "86757b6e-101e-4a27-b678-63ea0f4750d5",
   "metadata": {},
   "source": [
    "This a simple arithmetic expression to mutiply then add integers"
   ]
  },
  {
   "cell_type": "code",
   "execution_count": null,
   "id": "bda02a8b-9057-4eca-a9dc-fc323e54140d",
   "metadata": {},
   "outputs": [],
   "source": [
    "(3*4)+5"
   ]
  },
  {
   "cell_type": "markdown",
   "id": "6d227992-6190-47f1-93ea-59e052b29a84",
   "metadata": {},
   "source": [
    " This will convert 200 minutes to hours by diving by 60"
   ]
  },
  {
   "cell_type": "code",
   "execution_count": null,
   "id": "b89e39f2-7f05-4b57-9ece-99f10b26e0c3",
   "metadata": {
    "scrolled": true
   },
   "outputs": [],
   "source": [
    "num = 200\n",
    ">>> hours = num // 60\n",
    ">>> minutes = num % 60\n",
    ">>> print(f'{hours} hours {minutes} min')"
   ]
  },
  {
   "cell_type": "markdown",
   "id": "9e239f54-2301-415b-aedc-b349ccfba14e",
   "metadata": {},
   "source": [
    "## Author\n",
    "Francisco Caballero Vicente"
   ]
  }
 ],
 "metadata": {
  "kernelspec": {
   "display_name": "Python 3 (ipykernel)",
   "language": "python",
   "name": "python3"
  },
  "language_info": {
   "codemirror_mode": {
    "name": "ipython",
    "version": 3
   },
   "file_extension": ".py",
   "mimetype": "text/x-python",
   "name": "python",
   "nbconvert_exporter": "python",
   "pygments_lexer": "ipython3",
   "version": "3.12.4"
  }
 },
 "nbformat": 4,
 "nbformat_minor": 5
}
